{
 "cells": [
  {
   "cell_type": "markdown",
   "metadata": {},
   "source": [
    "# Quality control of the sequencing data.\n",
    "\n",
    "Several tools available to do so. For this workshop, we will use fastqc.\n",
    "\n",
    "First, it is always good to verify where we are:"
   ]
  },
  {
   "cell_type": "code",
   "execution_count": null,
   "metadata": {},
   "outputs": [],
   "source": [
    "$ pwd\n",
    "/home/[your_username]\n",
    "# good I am ready to work\n"
   ]
  },
  {
   "cell_type": "markdown",
   "metadata": {},
   "source": [
    "Checking to make sure we have the Raw files for the workshop."
   ]
  },
  {
   "cell_type": "code",
   "execution_count": null,
   "metadata": {},
   "outputs": [],
   "source": [
    "$ ls\n",
    "RNA_seq ..."
   ]
  },
  {
   "cell_type": "markdown",
   "metadata": {},
   "source": [
    "Creating a directory where to store the QC data:"
   ]
  },
  {
   "cell_type": "code",
   "execution_count": null,
   "metadata": {},
   "outputs": [],
   "source": [
    "$ cd RNA_seq"
   ]
  },
  {
   "cell_type": "code",
   "execution_count": null,
   "metadata": {},
   "outputs": [],
   "source": [
    "$ ls\n",
    "Genome  Raw  rsmodules.sh  yeast_counts_all_chr.txt"
   ]
  },
  {
   "cell_type": "code",
   "execution_count": null,
   "metadata": {},
   "outputs": [],
   "source": [
    "$ mkdir QC"
   ]
  },
  {
   "cell_type": "markdown",
   "metadata": {},
   "source": [
    "Since we are working on the NeSI HPC, we need to search and load the package before we start using it.\n",
    "\n",
    "Search"
   ]
  },
  {
   "cell_type": "code",
   "execution_count": null,
   "metadata": {},
   "outputs": [],
   "source": [
    "$ module spider fastqc"
   ]
  },
  {
   "cell_type": "markdown",
   "metadata": {},
   "source": [
    "and then load"
   ]
  },
  {
   "cell_type": "code",
   "execution_count": null,
   "metadata": {},
   "outputs": [],
   "source": [
    "$ module purge\n",
    "$ module load FastQC/0.11.9"
   ]
  },
  {
   "cell_type": "markdown",
   "metadata": {},
   "source": [
    ">hint : there is a file named ***rsmodules.sh*** which is a shell script to load the required modules at once. Running `source ~/RNA_seq/rsmodules.sh` command will excute it. \n",
    "\n",
    "Now we can start the quality control:"
   ]
  },
  {
   "cell_type": "code",
   "execution_count": null,
   "metadata": {},
   "outputs": [],
   "source": [
    "$ fastqc -o QC/ Raw/*\n"
   ]
  },
  {
   "cell_type": "markdown",
   "metadata": {},
   "source": [
    "You will see an automatically updating output message telling you the progress of the analysis. It will start like this:"
   ]
  },
  {
   "cell_type": "code",
   "execution_count": null,
   "metadata": {},
   "outputs": [],
   "source": [
    "Started analysis of SRR014335-chr1.fastq\n",
    "Approx 5% complete for SRR014335-chr1.fastq\n",
    "Approx 10% complete for SRR014335-chr1.fastq\n",
    "Approx 15% complete for SRR014335-chr1.fastq\n",
    "Approx 20% complete for SRR014335-chr1.fastq\n",
    "Approx 25% complete for SRR014335-chr1.fastq\n",
    "Approx 30% complete for SRR014335-chr1.fastq\n",
    "Approx 35% complete for SRR014335-chr1.fastq\n"
   ]
  },
  {
   "cell_type": "markdown",
   "metadata": {},
   "source": [
    "The FastQC program has created several new files within our RNA_seq/QC/ directory."
   ]
  },
  {
   "cell_type": "code",
   "execution_count": null,
   "metadata": {},
   "outputs": [],
   "source": [
    "$ ls QC\n",
    "SRR014335-chr1_fastqc.html  SRR014336-chr1_fastqc.zip   SRR014339-chr1_fastqc.html  SRR014340-chr1_fastqc.zip\n",
    "SRR014335-chr1_fastqc.zip   SRR014337-chr1_fastqc.html  SRR014339-chr1_fastqc.zip   SRR014341-chr1_fastqc.html\n",
    "SRR014336-chr1_fastqc.html  SRR014337-chr1_fastqc.zip   SRR014340-chr1_fastqc.html  SRR014341-chr1_fastqc.zip\n"
   ]
  },
  {
   "cell_type": "markdown",
   "metadata": {},
   "source": [
    "## Viewing the FastQC results\n",
    "\n",
    "If we were working on our local computers, we’d be able to look at each of these HTML files by opening them in a web browser.\n",
    "\n",
    "However, these files are currently sitting on our remote NeSI HPC, where our local computer can’t see them. And, since we are only logging into NeSI via the command line - it doesn’t have any web browser setup to display these files either.\n",
    "\n",
    "So the easiest way to look at these webpage summary reports will be to transfer them to our local computers (i.e. your laptop).\n",
    "\n",
    "To transfer a file from a remote server to our own machines, we will use scp.\n",
    "\n",
    "First we will make a new directory on our computer to store the HTML files we’re transferring. Let’s put it on our desktop for now. Open a new tab in your terminal program (you can use the pull down menu at the top of your screen or the Cmd+t keyboard shortcut) and type:"
   ]
  },
  {
   "cell_type": "code",
   "execution_count": null,
   "metadata": {},
   "outputs": [],
   "source": [
    "$ mkdir -p ~/Desktop/fastqc_html "
   ]
  },
  {
   "cell_type": "code",
   "execution_count": null,
   "metadata": {},
   "outputs": [],
   "source": [
    "$ scp -r [Your_UserName]p@login.mahuika.nesi.org.nz:~/RNA_seq/QC/ ~/Desktop/fastqc_html\n"
   ]
  },
  {
   "cell_type": "markdown",
   "metadata": {},
   "source": [
    "\n",
    "\n",
    "## Working with the FastQC text output\n",
    "Now that we’ve looked at our HTML reports to get a feel for the data, let’s look more closely at the other output files. Go back to the tab in your terminal program that is connected to NeSI and make sure you’re in our results subdirectory."
   ]
  },
  {
   "cell_type": "code",
   "execution_count": null,
   "metadata": {},
   "outputs": [],
   "source": [
    "$ cd /home/fayfa80p/RNA_seq/QC\n",
    "\n",
    "$ ls\n",
    "SRR014335-chr1_fastqc.html  SRR014336-chr1_fastqc.zip   SRR014339-chr1_fastqc.html  SRR014340-chr1_fastqc.zip\n",
    "SRR014335-chr1_fastqc.zip   SRR014337-chr1_fastqc.html  SRR014339-chr1_fastqc.zip   SRR014341-chr1_fastqc.html\n",
    "SRR014336-chr1_fastqc.html  SRR014337-chr1_fastqc.zip   SRR014340-chr1_fastqc.html  SRR014341-chr1_fastqc.zip\n"
   ]
  },
  {
   "cell_type": "markdown",
   "metadata": {},
   "source": [
    "Let's unzip the files to look at the FastQC text file outputs."
   ]
  },
  {
   "cell_type": "code",
   "execution_count": null,
   "metadata": {},
   "outputs": [],
   "source": [
    "\n",
    "$ for filename in *.zip\n",
    "> do\n",
    "> unzip $filename\n",
    "> done\n"
   ]
  },
  {
   "cell_type": "markdown",
   "metadata": {},
   "source": [
    "Inside each unzipped folder, there is a summary text which shows results of the statistical tests done by FastQC"
   ]
  },
  {
   "cell_type": "code",
   "execution_count": null,
   "metadata": {},
   "outputs": [],
   "source": [
    "$ ls SRR014335-chr1_fastqc\n",
    "fastqc_data.txt  fastqc.fo  fastqc_report.html\tIcons/\tImages/  summary.txt\n"
   ]
  },
  {
   "cell_type": "markdown",
   "metadata": {},
   "source": [
    "Use less to preview the summary.txt file"
   ]
  },
  {
   "cell_type": "code",
   "execution_count": null,
   "metadata": {},
   "outputs": [],
   "source": [
    "\n",
    "$ less SRR014335-chr1_fastqc/summary.txt\n"
   ]
  },
  {
   "cell_type": "markdown",
   "metadata": {},
   "source": [
    "We can make a record of the results we obtained for all our samples by concatenating all of our summary.txt files into a single file using the cat command. We’ll call this fastqc_summaries.txt."
   ]
  },
  {
   "cell_type": "code",
   "execution_count": null,
   "metadata": {},
   "outputs": [],
   "source": [
    "\n",
    "$ cat */summary.txt > ~/RNA_seq/QC/fastqc_summaries.txt \n"
   ]
  },
  {
   "cell_type": "markdown",
   "metadata": {},
   "source": [
    "* Have a look at the fastqc_summaries.txt and search for any of the samples that have failed the QC statistical tests.\n",
    "\n",
    "---\n",
    "## MultiQC -  multi-sample analysis\n",
    "\n",
    " - The FastQC analysis is applied to each sample separately, and produces a report for each.\n",
    " - The application MultiQC provides a way to combine multiple sets of results (i.e., from MANY \n",
    " different software packages) across multipel samples.\n",
    " - To generate `multqc` results, run the following command in the directory with the output files you want to summarise (e.g., fastqc reports generated above):"
   ]
  },
  {
   "cell_type": "code",
   "execution_count": null,
   "metadata": {
    "attributes": {
     "classes": [],
     "eval": "FALSE",
     "id": ""
    }
   },
   "outputs": [],
   "source": [
    "\n",
    "$ module load MultiQC/1.9-gimkl-2020a-Python-3.8.2\n",
    "\n",
    "$ cd ~/RNA_seq/\n",
    "\n",
    "$ mkdir MultiQC\n",
    "\n",
    "$ cd MultiQC\n",
    "\n",
    "$ cp ../QC/* ./\n",
    "\n",
    "$ multiqc .\n",
    "\n",
    "$ ls -F\n",
    "multiqc_data/  multiqc_report.html\n"
   ]
  },
  {
   "cell_type": "markdown",
   "metadata": {},
   "source": [
    "The html report shows the MultiQC summary\n",
    "\n",
    "![Alt text](https://github.com/foreal17/RNA-seq-workshop/blob/master/Prep_Files/Images/MQC1.png)"
   ]
  }
 ],
 "metadata": {
  "kernelspec": {
   "display_name": "Python 3.8.1 (gimkl-2018b)",
   "language": "python",
   "name": "python3"
  },
  "language_info": {
   "codemirror_mode": {
    "name": "ipython",
    "version": 3
   },
   "file_extension": ".py",
   "mimetype": "text/x-python",
   "name": "python",
   "nbconvert_exporter": "python",
   "pygments_lexer": "ipython3",
   "version": "3.8.1"
  }
 },
 "nbformat": 4,
 "nbformat_minor": 4
}
