{
 "cells": [
  {
   "cell_type": "markdown",
   "metadata": {},
   "source": [
    "# Cleaning Reads\n",
    "In the previous section, we took a high-level look at the quality of each of our samples using FastQC. We visualized per-base quality graphs showing the distribution of read quality at each base across all reads in a sample and extracted information about which samples fail which quality checks. Some of our samples failed quite a few quality metrics used by FastQC. This doesn’t mean, though, that our samples should be thrown out! It’s very common to have some quality metrics fail, and this may or may not be a problem for your downstream application. \n",
    "\n",
    "## Adapter removal\n",
    "- \"Adapters\" are short DNA sequences that are added to each read as part of the sequencing process (we won't get into \"why\" here).\n",
    "- These are removed as part of the data generation steps that occur during the sequencing run, but sometimes there is still a non-trivial amount of adapter sequence present in the FASTQ files.\n",
    "- Since the sequence is not part of the target genome (i.e., the genome if the species from which teh samples were derived) then we need to remove it to prevent it affecting the downstream analysis.\n",
    "- The FastQC application get detection adapter contamination in samples.\n",
    "\n",
    "We will use a program called CutAdapt to filter poor quality reads and trim poor quality bases from our samples.\n",
    "\n",
    "\n",
    "## How to act on fastq after QC.\n",
    "\n",
    "We can do several trimming:\n",
    "\n",
    "  * on quality using Phred score. What will be the Phred score?\n",
    "  * on the sequences, if they contain adaptor sequences.\n",
    "\n",
    "To do so, we can use on tools: The cutadapt application is often used to remove adapter sequence\n",
    "from FASTQ files.\n",
    "- The following syntax will remove the adapter sequence AACCGGTT from the file SRR014335-chr1.fastq, create a new file called SRR014335-chr1_trimmed.fastq, and write a summary to the log file SRR014335-chr1.log:"
   ]
  },
  {
   "cell_type": "code",
   "execution_count": null,
   "metadata": {},
   "outputs": [],
   "source": [
    "$ pwd\n",
    "/home/[Your_Username]/RNA_seq\n",
    "\n",
    "$ mkdir Trimmed\n",
    "\n",
    "$ module load cutadapt/2.10-gimkl-2020a-Python-3.8.2\n",
    "\n",
    "$ cutadapt -q 20 -a AACCGGTT -o Trimmed/SRR014335-chr1_cutadapt.fastq Raw/SRR014335-chr1.fastq > Trimmed/SRR014335-chr1.log\n"
   ]
  },
  {
   "cell_type": "markdown",
   "metadata": {},
   "source": [
    "We can have a look at the log file to see what cutadapt has done."
   ]
  },
  {
   "cell_type": "code",
   "execution_count": null,
   "metadata": {},
   "outputs": [],
   "source": [
    "$ less Trimmed/SRR014335-chr1.log\n"
   ]
  },
  {
   "cell_type": "markdown",
   "metadata": {},
   "source": [
    "Now we should trim all samples."
   ]
  },
  {
   "cell_type": "code",
   "execution_count": null,
   "metadata": {
    "attributes": {
     "classes": [
      "bash "
     ],
     "id": ""
    }
   },
   "outputs": [],
   "source": [
    "$ cd Raw\n",
    "\n",
    "$ ls\n",
    "SRR014335-chr1.fastq  SRR014336-chr1.fastq  SRR014337-chr1.fastq  SRR014339-chr1.fastq  SRR014340-chr1.fastq  SRR014341-chr1.fastq\n",
    "\n",
    "$ for filename in *.fastq\n",
    "> do base=$(basename ${filename} .fastq)\n",
    "> cutadapt -q 20 -a AACCGGTT -o ../Trimmed/${base}.trimmed.fastq ${filename} > ../Trimmed/${base}.log\n",
    "> done\n"
   ]
  },
  {
   "cell_type": "markdown",
   "metadata": {},
   "source": [
    "---\n",
    "\n",
    "## MultiQC: `cutadapt` log files\n",
    "\n",
    " - If the log files from `cutadapt` are added to the directory containing the FastQC output, this information will also be incorporated into the MultiQC report the next time it is run."
   ]
  },
  {
   "cell_type": "code",
   "execution_count": null,
   "metadata": {},
   "outputs": [],
   "source": [
    "$ cd ../MultiQC\n",
    " \n",
    "$ cp ../Trimmed/*log .\n",
    "\n",
    "$ multiqc .\n"
   ]
  },
  {
   "cell_type": "markdown",
   "metadata": {},
   "source": [
    "![Alt text](https://github.com/foreal17/RNA-seq-workshop/blob/master/Prep_Files/Images/MQC2.png)"
   ]
  }
 ],
 "metadata": {
  "kernelspec": {
   "display_name": "Python 3.8.1 (gimkl-2018b)",
   "language": "python",
   "name": "python3"
  },
  "language_info": {
   "codemirror_mode": {
    "name": "ipython",
    "version": 3
   },
   "file_extension": ".py",
   "mimetype": "text/x-python",
   "name": "python",
   "nbconvert_exporter": "python",
   "pygments_lexer": "ipython3",
   "version": "3.8.1"
  }
 },
 "nbformat": 4,
 "nbformat_minor": 4
}
