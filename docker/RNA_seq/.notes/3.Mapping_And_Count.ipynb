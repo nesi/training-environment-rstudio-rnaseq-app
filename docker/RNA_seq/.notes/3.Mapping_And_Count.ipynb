{
 "cells": [
  {
   "cell_type": "markdown",
   "metadata": {},
   "source": [
    "# Alignment to a reference genome\n",
    "\n",
    "RNA-seq generate gene expression information by quantifying the number of transcripts (per gene) in a sample. This is acompished by counting the number of transcripts that have been sequenced - the more active a gene is, the more transcripts will be in a sample, and the more reads will be generated from that transcript.\n",
    "\n",
    "For RNA-seq, we need to align or map each read back to the genome, to see which gene produced it.\n",
    "- Highly expressed genes will generate lots of transcripts, so there will be lots of reads that map back to the position of that transcript in the genome.\n",
    "- The per-gene data we work with in an RNA-seq experiment are counts: the number of reads from each sample that originated from that gene.\n",
    "\n",
    "## Preparation of the genome\n",
    "\n",
    "To be able to map (align) sequencing reads on the genome, the genome needs to be indexed first. In this workshop we will use [HISAT2](https://www.nature.com/articles/nmeth.3317).\n",
    "Note for speed reason, the reads will be aligned on the chr5 of the mouse genome."
   ]
  },
  {
   "cell_type": "code",
   "execution_count": null,
   "metadata": {},
   "outputs": [],
   "source": [
    "$ cd /home/[Your_Username]/RNA_seq/Genome\n",
    "\n",
    "#to list what is in your directory:\n",
    "$ ls /home/[Your_Username]/RNA_seq/Genome\n",
    "Saccharomyces_cerevisiae.R64-1-1.99.gtf  Saccharomyces_cerevisiae.R64-1-1.dna.toplevel.fa\n",
    "\n",
    "$ module load HISAT2/2.2.0-gimkl-2020a\n",
    "\n",
    "# index file:\n",
    "$ hisat2-build -p 4 -f Saccharomyces_cerevisiae.R64-1-1.dna.toplevel.fa Saccharomyces_cerevisiae.R64-1-1.dna.toplevel\n",
    "\n",
    "#list what is in the directory:\n",
    "$ ls /home/[Your_Username]/RNA_seq/Genome\n",
    "Saccharomyces_cerevisiae.R64-1-1.99.gtf              Saccharomyces_cerevisiae.R64-1-1.dna.toplevel.4.ht2  Saccharomyces_cerevisiae.R64-1-1.dna.toplevel.8.ht2\n",
    "Saccharomyces_cerevisiae.R64-1-1.dna.toplevel.1.ht2  Saccharomyces_cerevisiae.R64-1-1.dna.toplevel.5.ht2  Saccharomyces_cerevisiae.R64-1-1.dna.toplevel.fa\n",
    "Saccharomyces_cerevisiae.R64-1-1.dna.toplevel.2.ht2  Saccharomyces_cerevisiae.R64-1-1.dna.toplevel.6.ht2\n",
    "Saccharomyces_cerevisiae.R64-1-1.dna.toplevel.3.ht2  Saccharomyces_cerevisiae.R64-1-1.dna.toplevel.7.ht2\n"
   ]
  },
  {
   "cell_type": "markdown",
   "metadata": {},
   "source": [
    "Option info:\n",
    "  * -p number of threads\n",
    "  * -f fasta file\n",
    "\n",
    "How many files were created during the indexing process?\n",
    "\n",
    "## Alignment on the genome\n",
    "\n",
    "Now that the genome is prepared. Sequencing reads can be aligned.\n",
    "\n",
    "Information required:\n",
    "\n",
    "  * Where the sequence information is stored (e.g. fastq files ...) ?\n",
    "  * What kind of sequencing: Single End or Paired end ?\n",
    "  * Where are stored the indexes and the genome? \n",
    "  * Where will the mapping files be stored?\n",
    "  \n",
    "  \n",
    "  * Now, lets move one folder up (into the RNA_seq folder):"
   ]
  },
  {
   "cell_type": "code",
   "execution_count": null,
   "metadata": {},
   "outputs": [],
   "source": [
    "$ cd ..\n",
    "  \n",
    "$ ls\n",
    "Genome  QC  Raw  Trimmed\n",
    "  "
   ]
  },
  {
   "cell_type": "markdown",
   "metadata": {},
   "source": [
    "Let's map one of our sample to the genome"
   ]
  },
  {
   "cell_type": "code",
   "execution_count": null,
   "metadata": {},
   "outputs": [],
   "source": [
    "$ hisat2 -x Genome/Saccharomyces_cerevisiae.R64-1-1.dna.toplevel -U Raw/SRR014335-chr1.fastq -S SRR014335.sam\n",
    "125090 reads; of these:\n",
    "  125090 (100.00%) were unpaired; of these:\n",
    "    20537 (16.42%) aligned 0 times\n",
    "    85066 (68.00%) aligned exactly 1 time\n",
    "    19487 (15.58%) aligned >1 times\n",
    "83.58% overall alignment rate\n"
   ]
  },
  {
   "cell_type": "markdown",
   "metadata": {},
   "source": [
    "Now we need to align all the rest of the samples."
   ]
  },
  {
   "cell_type": "code",
   "execution_count": null,
   "metadata": {},
   "outputs": [],
   "source": [
    "$ pwd\n",
    "/home/[Your_Username]/RNA_seq/\n",
    "\n",
    "\n",
    "$ mkdir Mapping\n",
    "\n",
    "$ ls\n",
    "Genome  Mapping  QC  Raw  SRR014335.sam  Trimmed\n"
   ]
  },
  {
   "cell_type": "markdown",
   "metadata": {},
   "source": [
    "let's use a for loop to process our samples:"
   ]
  },
  {
   "cell_type": "code",
   "execution_count": null,
   "metadata": {},
   "outputs": [],
   "source": [
    "$ cd Trimmed\n",
    "\n",
    "$ ls\n",
    "SRR014335-chr1.fastq  SRR014336-chr1.fastq  SRR014337-chr1.fastq  SRR014339-chr1.fastq  SRR014340-chr1.fastq  SRR014341-chr1.fastq\n",
    "\n",
    "$ for filename in *\n",
    "> do\n",
    "> base=$(basename ${filename} .trimmed.fastq)\n",
    "> hisat2 -p 4 -x ../Genome/Saccharomyces_cerevisiae.R64-1-1.dna.toplevel -U $filename -S ../Mapping/${base}.sam --summary-file ../Mapping/${base}_summary.txt\n",
    "> done\n"
   ]
  },
  {
   "cell_type": "markdown",
   "metadata": {},
   "source": [
    "Now we can explore our SAM files."
   ]
  },
  {
   "cell_type": "code",
   "execution_count": null,
   "metadata": {},
   "outputs": [],
   "source": [
    "$ cd ../Mapping\n",
    "\n",
    "$ ls\n",
    "SRR014335-chr1.sam          SRR014336-chr1_summary.txt  SRR014339-chr1.sam          SRR014340-chr1_summary.txt\n",
    "SRR014335-chr1_summary.txt  SRR014337-chr1.sam          SRR014339-chr1_summary.txt  SRR014341-chr1.sam\n",
    "SRR014336-chr1.sam          SRR014337-chr1_summary.txt  SRR014340-chr1.sam          SRR014341-chr1_summary.txt\n"
   ]
  },
  {
   "cell_type": "markdown",
   "metadata": {},
   "source": [
    "## Converting SAM files to BAM files\n",
    "\n",
    "The SAM file, is a tab-delimited text file that contains information for each individual read and its alignment to the genome. While we do not have time to go into detail about the features of the SAM format, the paper by Heng Li et al. provides a lot more detail on the specification.\n",
    "\n",
    "The compressed binary version of SAM is called a BAM file. We use this version to reduce size and to allow for indexing, which enables efficient random access of the data contained within the file.\n",
    "\n",
    "### A quick look into the sam file"
   ]
  },
  {
   "cell_type": "code",
   "execution_count": null,
   "metadata": {},
   "outputs": [],
   "source": [
    "$ less SRR014335-chr1.sam \n",
    "\n",
    "The file begins with a header, which is optional. The header is used to describe the source of data, reference sequence, method of alignment, etc., this will change depending on the aligner being used. Following the header is the alignment section. Each line that follows corresponds to alignment information for a single read. Each alignment line has 11 mandatory fields for essential mapping information and a variable number of other fields for aligner specific information. An example entry from a SAM file is displayed below with the different fields highlighted.\n"
   ]
  },
  {
   "cell_type": "markdown",
   "metadata": {},
   "source": [
    "We will convert the SAM file to BAM format using the samtools program with the view command and tell this command that the input is in SAM format (-S) and to output BAM format (-b):"
   ]
  },
  {
   "cell_type": "code",
   "execution_count": null,
   "metadata": {},
   "outputs": [],
   "source": [
    "$ module load SAMtools/1.10-GCC-9.2.0\n",
    "\n",
    "$ for filename in *.sam\n",
    "> do\n",
    "> base=$(basename ${filename} .sam)\n",
    "> samtools view -S -b ${filename} -o ${base}.bam\n",
    "> done\n",
    "\n",
    "$ ls\n",
    "SRR014335-chr1.bam  SRR014336-chr1.bam  SRR014337-chr1.bam  SRR014339-chr1.bam  SRR014340-chr1.bam  SRR014341-chr1.bam\n",
    "SRR014335-chr1.sam  SRR014336-chr1.sam  SRR014337-chr1.sam  SRR014339-chr1.sam  SRR014340-chr1.sam  SRR014341-chr1.sam\n"
   ]
  },
  {
   "cell_type": "markdown",
   "metadata": {},
   "source": [
    "Next we sort the BAM file using the sort command from samtools. -o tells the command where to write the output."
   ]
  },
  {
   "cell_type": "code",
   "execution_count": null,
   "metadata": {},
   "outputs": [],
   "source": [
    "$ for filename in *.bam\n",
    "> do\n",
    "> base=$(basename ${filename} .bam)\n",
    "> samtools sort -o ${base}_sorted.bam ${filename}\n",
    "> done\n"
   ]
  },
  {
   "cell_type": "markdown",
   "metadata": {},
   "source": [
    "### SAM/BAM files can be sorted in multiple ways, e.g. by location of alignment on the chromosome, by read name, etc. It is important to be aware that different alignment tools will output differently sorted SAM/BAM, and different downstream tools require differently sorted alignment files as input.\n",
    "\n",
    "You can use samtools to learn more about the bam file as well.\n",
    "## Some stats on your mapping:"
   ]
  },
  {
   "cell_type": "code",
   "execution_count": null,
   "metadata": {},
   "outputs": [],
   "source": [
    "$ samtools flagstat SRR014335-chr1_sorted.bam\n",
    "\n",
    "156984 + 0 in total (QC-passed reads + QC-failed reads)\n",
    "31894 + 0 secondary\n",
    "0 + 0 supplementary\n",
    "0 + 0 duplicates\n",
    "136447 + 0 mapped (86.92% : N/A)\n",
    "0 + 0 paired in sequencing\n",
    "0 + 0 read1\n",
    "0 + 0 read2\n",
    "0 + 0 properly paired (N/A : N/A)\n",
    "0 + 0 with itself and mate mapped\n",
    "0 + 0 singletons (N/A : N/A)\n",
    "0 + 0 with mate mapped to a different chr\n",
    "0 + 0 with mate mapped to a different chr (mapQ>=5)\n"
   ]
  },
  {
   "cell_type": "markdown",
   "metadata": {},
   "source": [
    "---\n",
    "\n",
    "## MultiQC: `HISAT2` output\n",
    "\n",
    " - The HISAT2 output data can also be incorporated into the MultiQC report the next time it is run.\n",
    " "
   ]
  },
  {
   "cell_type": "code",
   "execution_count": null,
   "metadata": {},
   "outputs": [],
   "source": [
    "$ cd ~/RNA_seq/MultiQC\n",
    "\n",
    "$ cp ../Mapping/*summary* ./\n",
    "\n",
    "$ multiqc ."
   ]
  },
  {
   "cell_type": "markdown",
   "metadata": {},
   "source": [
    "Please note: running HISAT2 with either option `--summary-file` or older versions (< v2.1.0) gives log output identical to Bowtie2. These logs are indistinguishable and summary statistics will appear in MultiQC reports labelled as Bowtie2.\n",
    "\n",
    "---\n",
    "\n",
    "# Read Summarization\n",
    "Sequencing reads often need to be assigned to genomic features of interest after they are mapped to the reference genome. This process is often called read summarization or read quantification. Read summarization is required by a number of downstream analyses such as gene expression analysis and histone modification analysis. The output of read summarization\n",
    "is a count table, in which the number of reads assigned to each feature in each library is recorded.\n",
    "\n",
    "\n",
    "# Counting\n",
    "- We need to do some counting!\n",
    "- Want to generate count data for each gene (actually each exon) - how many reads mapped to each exon in the genome, from each of our samples?\n",
    "- Once we have that information, we can start thinking about how to determine which genes were differentially expressed in our study.\n",
    "\n",
    "## Subread and FeatureCounts\n",
    "- The featureCounts tool from the Subread package can be used to count how many reads aligned to each genome feature (exon).\n",
    "- Need to specify the annotation informatyion (.gtf file) \n",
    "You can process all the samples at once:\n"
   ]
  },
  {
   "cell_type": "code",
   "execution_count": null,
   "metadata": {},
   "outputs": [],
   "source": [
    "$ module load Subread\n",
    "\n",
    "$ pwd\n",
    "/home/[Your_Username]/RNA_seq\n",
    "\n",
    "$ mkdir Counts\n",
    "\n",
    "$ cd Counts\n",
    "\n",
    "$ featureCounts -a ../Genome/Saccharomyces_cerevisiae.R64-1-1.99.gtf -o ./yeast_counts.txt -T 2 -t exon -g gene_id ../Mapping/*sorted.bam\n"
   ]
  },
  {
   "cell_type": "markdown",
   "metadata": {},
   "source": [
    "---\n",
    "\n",
    "## MultiQC: featureCounts output\n",
    "\n",
    "- If the samples are processed individually, the output data can be incorporated into the MultiQC report the next time it is run."
   ]
  },
  {
   "cell_type": "code",
   "execution_count": null,
   "metadata": {},
   "outputs": [],
   "source": [
    "$ cd ../MultiQC\n",
    "\n",
    "$ cp ../Counts/* .\n",
    "\n",
    "$ multiqc .\n"
   ]
  },
  {
   "cell_type": "markdown",
   "metadata": {},
   "source": [
    "![Alt text](https://github.com/foreal17/RNA-seq-workshop/blob/master/Prep_Files/Images/MQC4.png)\n",
    "\n",
    "---\n",
    "\n",
    "Since we now have all the count data in one file, we need to transfer it to our local computers so we could start working on RStudio to get differentially expressed genes.\n",
    "\n",
    "- And the code to do it is below, however for this workshop, we are going to use a different file (yeast_counts_all_chr.txt) that you can download from section 4. Differential_Expression. This file has all the data for all the chromosomes."
   ]
  },
  {
   "cell_type": "code",
   "execution_count": null,
   "metadata": {},
   "outputs": [],
   "source": [
    "#In a new terminal that you can access you computer files, cd to the directory you want to save the counts file.\n",
    "\n",
    "$ scp fayfa80p@login.mahuika.nesi.org.nz:/home/fayfa80p/RNA_seq/Counts/yeast_counts_all_chr.txt ./\n"
   ]
  },
  {
   "cell_type": "code",
   "execution_count": null,
   "metadata": {},
   "outputs": [],
   "source": []
  }
 ],
 "metadata": {
  "kernelspec": {
   "display_name": "Python 3.8.1 (gimkl-2018b)",
   "language": "python",
   "name": "python3"
  },
  "language_info": {
   "codemirror_mode": {
    "name": "ipython",
    "version": 3
   },
   "file_extension": ".py",
   "mimetype": "text/x-python",
   "name": "python",
   "nbconvert_exporter": "python",
   "pygments_lexer": "ipython3",
   "version": "3.8.1"
  }
 },
 "nbformat": 4,
 "nbformat_minor": 4
}
